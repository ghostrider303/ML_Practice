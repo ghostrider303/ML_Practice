{
 "cells": [
  {
   "cell_type": "code",
   "execution_count": 1,
   "metadata": {},
   "outputs": [],
   "source": [
    "import numpy as np\n"
   ]
  },
  {
   "cell_type": "code",
   "execution_count": 15,
   "metadata": {},
   "outputs": [],
   "source": [
    "l1=[15 , 12,  8,   8,   7,   7,   7,   6,   5,   3]\n",
    "l2=[10  ,25  ,17 , 11  ,13  ,17,  20 , 13  ,9   ,15]"
   ]
  },
  {
   "cell_type": "code",
   "execution_count": 16,
   "metadata": {},
   "outputs": [],
   "source": [
    "a=np.array(l1) \n",
    "b=np.array(l2)"
   ]
  },
  {
   "cell_type": "code",
   "execution_count": 21,
   "metadata": {},
   "outputs": [],
   "source": [
    "covab=np.cov(a,b, bias=True)[0][1]\n",
    "cova=np.cov(a,b, bias=True)[0][0]\n",
    "covb=np.cov(a,b, bias=True)[1][1]\n"
   ]
  },
  {
   "cell_type": "code",
   "execution_count": 22,
   "metadata": {},
   "outputs": [
    {
     "data": {
      "text/plain": [
       "0.009556574923547398"
      ]
     },
     "execution_count": 22,
     "metadata": {},
     "output_type": "execute_result"
    }
   ],
   "source": [
    "coef=covab/(cova*covb)\n",
    "coef"
   ]
  },
  {
   "cell_type": "code",
   "execution_count": 19,
   "metadata": {},
   "outputs": [],
   "source": [
    "l3=[]\n",
    "l4=[]\n",
    "for i in l1 :\n",
    "    l3.append(i*i)\n",
    "for j in l2:\n",
    "    l4.append(j*j)\n",
    "\n",
    "a1=np.array(l3) \n",
    "b1=np.array(l4)\n",
    "    "
   ]
  },
  {
   "cell_type": "code",
   "execution_count": 7,
   "metadata": {},
   "outputs": [
    {
     "data": {
      "text/plain": [
       "array([225, 144,  64,  64,  49,  49,  49,  36,  25,   9])"
      ]
     },
     "execution_count": 7,
     "metadata": {},
     "output_type": "execute_result"
    }
   ],
   "source": [
    "a1"
   ]
  },
  {
   "cell_type": "code",
   "execution_count": 8,
   "metadata": {},
   "outputs": [],
   "source": [
    "l5=[]\n",
    "for i in range(a1.shape[0]):\n",
    "    j=a[i]*b[i]\n",
    "    l5.append(j)\n",
    "ab=np.array(l5)"
   ]
  },
  {
   "cell_type": "code",
   "execution_count": 9,
   "metadata": {},
   "outputs": [
    {
     "data": {
      "text/plain": [
       "array([150, 300, 136,  88,  91, 119, 140,  78,  45,  45])"
      ]
     },
     "execution_count": 9,
     "metadata": {},
     "output_type": "execute_result"
    }
   ],
   "source": [
    "ab"
   ]
  },
  {
   "cell_type": "code",
   "execution_count": 10,
   "metadata": {},
   "outputs": [
    {
     "data": {
      "text/plain": [
       "10"
      ]
     },
     "execution_count": 10,
     "metadata": {},
     "output_type": "execute_result"
    }
   ],
   "source": [
    "n=ab.shape[0]\n"
   ]
  },
  {
   "cell_type": "code",
   "execution_count": 25,
   "metadata": {},
   "outputs": [],
   "source": [
    "coed=((n*np.sum(ab))-(np.sum(a)*np.sum(b)))\n",
    "coen=np.sqrt(((n*np.sum(a1))-(np.sum(a)**2))*((n*np.sum(b1))-(np.sum(b)**2)))"
   ]
  },
  {
   "cell_type": "code",
   "execution_count": 26,
   "metadata": {},
   "outputs": [
    {
     "data": {
      "text/plain": [
       "0.1449981545806852"
      ]
     },
     "execution_count": 26,
     "metadata": {},
     "output_type": "execute_result"
    }
   ],
   "source": [
    "coe=coed/coen\n",
    "coe"
   ]
  },
  {
   "cell_type": "code",
   "execution_count": 27,
   "metadata": {},
   "outputs": [
    {
     "name": "stdout",
     "output_type": "stream",
     "text": [
      "2.2    10.560000000000002         21.8\n"
     ]
    }
   ],
   "source": [
    "print(covab,\"  \",cova,'       ',covb)"
   ]
  },
  {
   "cell_type": "code",
   "execution_count": 28,
   "metadata": {},
   "outputs": [
    {
     "name": "stdout",
     "output_type": "stream",
     "text": [
      "220     1517.26068953229\n"
     ]
    }
   ],
   "source": [
    "print(coed,\"   \",coen)"
   ]
  },
  {
   "cell_type": "code",
   "execution_count": null,
   "metadata": {},
   "outputs": [],
   "source": [
    "import numpy as np\n",
    "l1=[15 , 12,  8,   8,   7,   7,   7,   6,   5,   3]\n",
    "l2=[10  ,25  ,17 , 11  ,13  ,17,  20 , 13  ,9   ,15]\n",
    "a=np.array(l1) \n",
    "b=np.array(l2)\n",
    "l3=[]\n",
    "l4=[]\n",
    "for i in l1 :\n",
    "    l3.append(i*i)\n",
    "for j in l2:\n",
    "    l4.append(j*j)\n",
    "\n",
    "a1=np.array(l3) \n",
    "b1=np.array(l4)\n",
    "    \n",
    "l5=[]\n",
    "for i in range(a1.shape[0]):\n",
    "    j=a[i]*b[i]\n",
    "    l5.append(j)\n",
    "ab=np.array(l5)\n",
    "n=ab.shape[0]\n",
    "coed=((n*np.sum(ab))-(np.sum(a)*np.sum(b)))\n",
    "coen=np.sqrt(((n*np.sum(a1))-(np.sum(a)**2))*((n*np.sum(b1))-(np.sum(b)**2)))\n",
    "coe=coed/coen\n",
    "print(coe)"
   ]
  }
 ],
 "metadata": {
  "kernelspec": {
   "display_name": "Python 3",
   "language": "python",
   "name": "python3"
  },
  "language_info": {
   "codemirror_mode": {
    "name": "ipython",
    "version": 3
   },
   "file_extension": ".py",
   "mimetype": "text/x-python",
   "name": "python",
   "nbconvert_exporter": "python",
   "pygments_lexer": "ipython3",
   "version": "3.5.2"
  }
 },
 "nbformat": 4,
 "nbformat_minor": 2
}
