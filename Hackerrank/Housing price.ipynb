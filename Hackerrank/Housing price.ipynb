{
 "cells": [
  {
   "cell_type": "code",
   "execution_count": 1,
   "metadata": {},
   "outputs": [],
   "source": [
    "import numpy as np"
   ]
  },
  {
   "cell_type": "code",
   "execution_count": 2,
   "metadata": {},
   "outputs": [
    {
     "data": {
      "text/plain": [
       "[0.18,\n",
       " 0.89,\n",
       " 109.85,\n",
       " 1.0,\n",
       " 0.26,\n",
       " 155.72,\n",
       " 0.92,\n",
       " 0.11,\n",
       " 137.66,\n",
       " 0.07,\n",
       " 0.37,\n",
       " 76.17,\n",
       " 0.85,\n",
       " 0.16,\n",
       " 139.75,\n",
       " 0.99,\n",
       " 0.41,\n",
       " 162.6,\n",
       " 0.87,\n",
       " 0.47,\n",
       " 151.77]"
      ]
     },
     "execution_count": 2,
     "metadata": {},
     "output_type": "execute_result"
    }
   ],
   "source": [
    "l=[0.18, 0.89 ,109.85,1.0 ,0.26 ,155.72,0.92 ,0.11 ,137.66,0.07 ,0.37 ,76.17,0.85 ,0.16 ,139.75,0.99 ,0.41 ,162.6,0.87 ,0.47 ,151.77]\n",
    "l"
   ]
  },
  {
   "cell_type": "code",
   "execution_count": 3,
   "metadata": {},
   "outputs": [],
   "source": [
    "l1=[]\n",
    "l2=[]\n",
    "l3=[]\n",
    "for i in range(2,len(l),3):\n",
    "    if ((i+1)%3==0):\n",
    "        l3.append(l[i])\n",
    "        l2.append(l[i-1])\n",
    "        l1.append(l[i-2])\n",
    "    "
   ]
  },
  {
   "cell_type": "code",
   "execution_count": 4,
   "metadata": {},
   "outputs": [
    {
     "data": {
      "text/plain": [
       "[109.85, 155.72, 137.66, 76.17, 139.75, 162.6, 151.77]"
      ]
     },
     "execution_count": 4,
     "metadata": {},
     "output_type": "execute_result"
    }
   ],
   "source": [
    "l3"
   ]
  },
  {
   "cell_type": "code",
   "execution_count": 5,
   "metadata": {},
   "outputs": [],
   "source": [
    "l1=[0.18, 1.0, 0.92, 0.07, 0.85, 0.99, 0.87]\n",
    "l2=[0.89, 0.26, 0.11, 0.37, 0.16, 0.41, 0.47]\n",
    "l3=[109.85, 155.72, 137.66, 76.17, 139.75, 162.6, 151.77]\n"
   ]
  },
  {
   "cell_type": "code",
   "execution_count": 6,
   "metadata": {},
   "outputs": [],
   "source": [
    "x1=np.array(l1)\n",
    "x2=np.array(l2)\n",
    "X=np.vstack((x1,x2))\n",
    "\n",
    "y=np.array(l3)"
   ]
  },
  {
   "cell_type": "code",
   "execution_count": null,
   "metadata": {},
   "outputs": [],
   "source": []
  },
  {
   "cell_type": "code",
   "execution_count": 7,
   "metadata": {},
   "outputs": [
    {
     "data": {
      "text/plain": [
       "[[0.18, 0.89],\n",
       " [1.0, 0.26],\n",
       " [0.92, 0.11],\n",
       " [0.07, 0.37],\n",
       " [0.85, 0.16],\n",
       " [0.99, 0.41],\n",
       " [0.87, 0.47]]"
      ]
     },
     "execution_count": 7,
     "metadata": {},
     "output_type": "execute_result"
    }
   ],
   "source": [
    "X=[[0 for i in range(2)] for i in range(7)]\n",
    "\n",
    "for i in range (len(l1)):\n",
    "    X[i][0]=l1[i]\n",
    "    X[i][1]=l2[i]\n",
    "X"
   ]
  },
  {
   "cell_type": "code",
   "execution_count": 8,
   "metadata": {},
   "outputs": [],
   "source": [
    "from sklearn import linear_model\n",
    "import math"
   ]
  },
  {
   "cell_type": "code",
   "execution_count": null,
   "metadata": {},
   "outputs": [],
   "source": []
  },
  {
   "cell_type": "code",
   "execution_count": 9,
   "metadata": {},
   "outputs": [
    {
     "name": "stdout",
     "output_type": "stream",
     "text": [
      "Intercept: \n",
      " 52.411499045060836\n",
      "Coefficients: \n",
      " [90.69331739 46.46296549]\n"
     ]
    }
   ],
   "source": [
    "regr = linear_model.LinearRegression()\n",
    "regr.fit(X, l3)\n",
    " \n",
    "print('Intercept: \\n', regr.intercept_)\n",
    "print('Coefficients: \\n', regr.coef_)"
   ]
  },
  {
   "cell_type": "code",
   "execution_count": 10,
   "metadata": {},
   "outputs": [],
   "source": [
    "m1=regr.coef_[0]\n",
    "m2=regr.coef_[1]\n",
    "c=regr.intercept_"
   ]
  },
  {
   "cell_type": "code",
   "execution_count": 11,
   "metadata": {},
   "outputs": [],
   "source": [
    "l4=[]\n",
    "for i in range(len(l1)):\n",
    "    p=c+m1*l1[i]+m2*l2[i]\n",
    "    l4.append(p)"
   ]
  },
  {
   "cell_type": "code",
   "execution_count": 12,
   "metadata": {},
   "outputs": [
    {
     "data": {
      "text/plain": [
       "[110.0883354562583,\n",
       " 155.18518745625096,\n",
       " 140.96027724265835,\n",
       " 75.95132849156363,\n",
       " 136.93489329997072,\n",
       " 161.24769910519194,\n",
       " 153.15227894810613]"
      ]
     },
     "execution_count": 12,
     "metadata": {},
     "output_type": "execute_result"
    }
   ],
   "source": [
    "l4"
   ]
  },
  {
   "cell_type": "code",
   "execution_count": 13,
   "metadata": {},
   "outputs": [],
   "source": []
  },
  {
   "cell_type": "code",
   "execution_count": 14,
   "metadata": {},
   "outputs": [
    {
     "ename": "ImportError",
     "evalue": "No module named 'statsmodels'",
     "output_type": "error",
     "traceback": [
      "\u001b[1;31m---------------------------------------------------------------------------\u001b[0m",
      "\u001b[1;31mImportError\u001b[0m                               Traceback (most recent call last)",
      "\u001b[1;32m<ipython-input-14-085740203b77>\u001b[0m in \u001b[0;36m<module>\u001b[1;34m()\u001b[0m\n\u001b[1;32m----> 1\u001b[1;33m \u001b[1;32mimport\u001b[0m \u001b[0mstatsmodels\u001b[0m\u001b[1;33m.\u001b[0m\u001b[0mapi\u001b[0m \u001b[1;32mas\u001b[0m \u001b[0msm\u001b[0m\u001b[1;33m\u001b[0m\u001b[0m\n\u001b[0m",
      "\u001b[1;31mImportError\u001b[0m: No module named 'statsmodels'"
     ]
    }
   ],
   "source": []
  },
  {
   "cell_type": "code",
   "execution_count": null,
   "metadata": {},
   "outputs": [],
   "source": []
  },
  {
   "cell_type": "code",
   "execution_count": 15,
   "metadata": {},
   "outputs": [
    {
     "name": "stdout",
     "output_type": "stream",
     "text": [
      "105.21\n",
      "142.67\n",
      "132.94\n",
      "129.70\n"
     ]
    }
   ],
   "source": [
    "a1=float(regr.predict([[0.49,0.18]]))\n",
    "a2=float(regr.predict([[0.57, 0.83]]))\n",
    "a3=float(regr.predict([[0.56 ,0.64]]))\n",
    "a4=float(regr.predict([[0.76, 0.18]]))\n",
    "print (\"{:0.2f}\".format(a1))\n",
    "print (\"{:0.2f}\".format(a2))\n",
    "print (\"{:0.2f}\".format(a3))\n",
    "print (\"{:0.2f}\".format(a4))"
   ]
  },
  {
   "cell_type": "code",
   "execution_count": 16,
   "metadata": {},
   "outputs": [
    {
     "name": "stdout",
     "output_type": "stream",
     "text": [
      "105.22\n",
      "142.68\n",
      "132.94\n",
      "129.71\n"
     ]
    }
   ],
   "source": [
    "print(math.ceil(a1*100)/100)\n",
    "print(math.ceil(a2*100)/100)\n",
    "print(math.ceil(a3*100)/100)\n",
    "print(math.ceil(a4*100)/100)"
   ]
  },
  {
   "cell_type": "code",
   "execution_count": 17,
   "metadata": {},
   "outputs": [
    {
     "name": "stdout",
     "output_type": "stream",
     "text": [
      "105.22\n",
      "142.68\n",
      "132.94\n",
      "129.71\n"
     ]
    }
   ],
   "source": [
    "from sklearn import linear_model\n",
    "import math\n",
    "l1=[0.18, 1.0, 0.92, 0.07, 0.85, 0.99, 0.87]\n",
    "l2=[0.89, 0.26, 0.11, 0.37, 0.16, 0.41, 0.47]\n",
    "l3=[109.85, 155.72, 137.66, 76.17, 139.75, 162.6, 151.77]\n",
    "X=[[0 for i in range(2)] for i in range(7)]\n",
    "\n",
    "for i in range (len(l1)):\n",
    "    X[i][0]=l1[i]\n",
    "    X[i][1]=l2[i]\n",
    "regr = linear_model.LinearRegression()\n",
    "regr.fit(X, l3)\n",
    " \n",
    "#print('Intercept: \\n', regr.intercept_)\n",
    "#print('Coefficients: \\n', regr.coef_)\n",
    "m1=regr.coef_[0]\n",
    "m2=regr.coef_[1]\n",
    "c=regr.intercept_\n",
    "l4=[]\n",
    "for i in range(len(l1)):\n",
    "    p=c+m1*l1[i]+m2*l2[i]\n",
    "    l4.append(p)\n",
    "a1=float(regr.predict([[0.49,0.18]]))\n",
    "a2=float(regr.predict([[0.57, 0.83]]))\n",
    "a3=float(regr.predict([[0.56 ,0.64]]))\n",
    "a4=float(regr.predict([[0.76, 0.18]]))\n",
    "print(math.ceil(a1*100)/100)\n",
    "print(math.ceil(a2*100)/100)\n",
    "print(math.ceil(a3*100)/100)\n",
    "print(math.ceil(a4*100)/100)"
   ]
  },
  {
   "cell_type": "code",
   "execution_count": 28,
   "metadata": {},
   "outputs": [
    {
     "data": {
      "text/plain": [
       "151.77"
      ]
     },
     "execution_count": 28,
     "metadata": {},
     "output_type": "execute_result"
    }
   ],
   "source": [
    "l=[[0.18, 0.89, 109.85], [1.0, 0.26, 155.72], [0.92, 0.11, 137.66], [0.07, 0.37, 76.17], [0.85, 0.16, 139.75], [0.99, 0.41, 162.6], [0.87, 0.47, 151.77]]\n",
    "l[6][2]"
   ]
  },
  {
   "cell_type": "code",
   "execution_count": 29,
   "metadata": {},
   "outputs": [
    {
     "data": {
      "text/plain": [
       "155.72"
      ]
     },
     "execution_count": 29,
     "metadata": {},
     "output_type": "execute_result"
    }
   ],
   "source": [
    "n=2\n",
    "m=7\n",
    "l[1][n]"
   ]
  },
  {
   "cell_type": "code",
   "execution_count": 33,
   "metadata": {},
   "outputs": [],
   "source": [
    "X=[[0 for i in range(n)] for i in range(m)]\n",
    "Y=[]\n",
    "for i in range(m):\n",
    "    for j in range(n):\n",
    "        X[i][j]=l[i][j]\n",
    "    Y.append(l[i][n])\n",
    "    "
   ]
  },
  {
   "cell_type": "code",
   "execution_count": 47,
   "metadata": {},
   "outputs": [
    {
     "data": {
      "text/plain": [
       "[109.85, 155.72, 137.66, 76.17, 139.75, 162.6, 151.77]"
      ]
     },
     "execution_count": 47,
     "metadata": {},
     "output_type": "execute_result"
    }
   ],
   "source": [
    "Y"
   ]
  },
  {
   "cell_type": "code",
   "execution_count": 48,
   "metadata": {},
   "outputs": [
    {
     "data": {
      "text/plain": [
       "LinearRegression(copy_X=True, fit_intercept=True, n_jobs=1, normalize=False)"
      ]
     },
     "execution_count": 48,
     "metadata": {},
     "output_type": "execute_result"
    }
   ],
   "source": [
    "regr = linear_model.LinearRegression()\n",
    "regr.fit(X, Y)"
   ]
  },
  {
   "cell_type": "code",
   "execution_count": 49,
   "metadata": {},
   "outputs": [],
   "source": [
    "def fit(X,Y,n):\n",
    "    regr = linear_model.LinearRegression()\n",
    "    regr.fit(X, Y)\n",
    "    coef=[[0 for i in range (2)] for j in range(n)]\n",
    "    for i in range(n):\n",
    "        coef[i]=regr.coef_[i]\n",
    "    inter=regr.intercept_\n",
    "    return coef,inter"
   ]
  },
  {
   "cell_type": "code",
   "execution_count": 50,
   "metadata": {},
   "outputs": [
    {
     "name": "stdout",
     "output_type": "stream",
     "text": [
      "[90.69331738501884, 46.46296548527425] 52.411499045060836\n"
     ]
    }
   ],
   "source": [
    "c,i=fit(X,Y,n)\n",
    "print(c,i)"
   ]
  },
  {
   "cell_type": "code",
   "execution_count": 64,
   "metadata": {},
   "outputs": [
    {
     "data": {
      "text/plain": [
       "4"
      ]
     },
     "execution_count": 64,
     "metadata": {},
     "output_type": "execute_result"
    }
   ],
   "source": [
    "test=[[0.49, 0.18], [0.57, 0.83], [0.56, 0.64], [0.76, 0.18]]\n",
    "t=4\n",
    "len(test)"
   ]
  },
  {
   "cell_type": "code",
   "execution_count": 62,
   "metadata": {},
   "outputs": [],
   "source": [
    "def predict(test):\n",
    "    for ix in range(t):\n",
    "        a=float(regr.predict([test[ix]]))\n",
    "        print(math.ceil(a*100)/100)\n",
    "        "
   ]
  },
  {
   "cell_type": "code",
   "execution_count": 63,
   "metadata": {},
   "outputs": [
    {
     "name": "stdout",
     "output_type": "stream",
     "text": [
      "105.22\n",
      "142.68\n",
      "132.94\n",
      "129.71\n"
     ]
    }
   ],
   "source": [
    "predict(test)"
   ]
  },
  {
   "cell_type": "markdown",
   "metadata": {},
   "source": [
    "# final"
   ]
  },
  {
   "cell_type": "code",
   "execution_count": 66,
   "metadata": {},
   "outputs": [
    {
     "name": "stdout",
     "output_type": "stream",
     "text": [
      "\n"
     ]
    },
    {
     "ename": "IndexError",
     "evalue": "list index out of range",
     "output_type": "error",
     "traceback": [
      "\u001b[1;31m---------------------------------------------------------------------------\u001b[0m",
      "\u001b[1;31mIndexError\u001b[0m                                Traceback (most recent call last)",
      "\u001b[1;32m<ipython-input-66-c8829406d069>\u001b[0m in \u001b[0;36m<module>\u001b[1;34m()\u001b[0m\n\u001b[0;32m     13\u001b[0m \u001b[1;33m\u001b[0m\u001b[0m\n\u001b[0;32m     14\u001b[0m \u001b[0mf\u001b[0m\u001b[1;33m=\u001b[0m\u001b[0mconv\u001b[0m\u001b[1;33m(\u001b[0m\u001b[0minput\u001b[0m\u001b[1;33m(\u001b[0m\u001b[1;33m)\u001b[0m\u001b[1;33m.\u001b[0m\u001b[0msplit\u001b[0m\u001b[1;33m(\u001b[0m \u001b[1;33m)\u001b[0m\u001b[1;33m)\u001b[0m\u001b[1;33m\u001b[0m\u001b[0m\n\u001b[1;32m---> 15\u001b[1;33m \u001b[0mn\u001b[0m\u001b[1;33m=\u001b[0m\u001b[0mint\u001b[0m\u001b[1;33m(\u001b[0m\u001b[0mf\u001b[0m\u001b[1;33m[\u001b[0m\u001b[1;36m0\u001b[0m\u001b[1;33m]\u001b[0m\u001b[1;33m)\u001b[0m\u001b[1;33m\u001b[0m\u001b[0m\n\u001b[0m\u001b[0;32m     16\u001b[0m \u001b[0mm\u001b[0m\u001b[1;33m=\u001b[0m\u001b[0mint\u001b[0m\u001b[1;33m(\u001b[0m\u001b[0mf\u001b[0m\u001b[1;33m[\u001b[0m\u001b[1;36m1\u001b[0m\u001b[1;33m]\u001b[0m\u001b[1;33m)\u001b[0m\u001b[1;33m\u001b[0m\u001b[0m\n\u001b[0;32m     17\u001b[0m \u001b[1;31m#print(m,n)\u001b[0m\u001b[1;33m\u001b[0m\u001b[1;33m\u001b[0m\u001b[0m\n",
      "\u001b[1;31mIndexError\u001b[0m: list index out of range"
     ]
    }
   ],
   "source": [
    "from sklearn import linear_model\n",
    "import math\n",
    "def conv(lista) :\n",
    "    return[float(i) for i in lista]\n",
    "\n",
    "\n",
    "def predict(X,Y,test):\n",
    "    regr = linear_model.LinearRegression()\n",
    "    regr.fit(X, Y)\n",
    "    for ix in range(len(test)):\n",
    "        a=float(regr.predict([test[ix]]))\n",
    "        print(math.ceil(a*100)/100)\n",
    "        \n",
    "f=conv(input().split( ))\n",
    "n=int(f[0])\n",
    "m=int(f[1])\n",
    "#print(m,n)\n",
    "fmatrix=[[j for j in conv(input().strip().split())]for i in range(m)]\n",
    "t=int(input())\n",
    "#print(t)\n",
    "tempmatr=[[j for j in conv(input().strip().split())]for i in range(t)]\n",
    "#print(tempmatr)\n",
    "l=fmatrix\n",
    "X=[[0 for i in range(n)] for i in range(m)]\n",
    "Y=[]\n",
    "for i in range(m):\n",
    "    for j in range(n):\n",
    "        X[i][j]=l[i][j]\n",
    "    Y.append(l[i][n])\n",
    "#print(Y)\n",
    "#print(c,i)\n",
    "predict(X,Y,tempmatr)\n",
    "\n",
    "\n",
    "\n",
    "\n"
   ]
  },
  {
   "cell_type": "code",
   "execution_count": null,
   "metadata": {},
   "outputs": [],
   "source": []
  }
 ],
 "metadata": {
  "kernelspec": {
   "display_name": "Python 3",
   "language": "python",
   "name": "python3"
  },
  "language_info": {
   "codemirror_mode": {
    "name": "ipython",
    "version": 3
   },
   "file_extension": ".py",
   "mimetype": "text/x-python",
   "name": "python",
   "nbconvert_exporter": "python",
   "pygments_lexer": "ipython3",
   "version": "3.5.2"
  }
 },
 "nbformat": 4,
 "nbformat_minor": 2
}
