{
 "cells": [
  {
   "cell_type": "code",
   "execution_count": 4,
   "metadata": {},
   "outputs": [],
   "source": [
    "x=[15,  12,  8 ,  8,   7,   7,   7,   6,   5 ,  3]\n",
    "y=[10  ,25  ,17  ,11 , 13  ,17 , 20 , 13,  9   ,15]"
   ]
  },
  {
   "cell_type": "code",
   "execution_count": 15,
   "metadata": {},
   "outputs": [
    {
     "name": "stdout",
     "output_type": "stream",
     "text": [
      "15.458333333333332\n"
     ]
    }
   ],
   "source": [
    "\n",
    "import math\n",
    "x=[15  ,12 , 8,   8,   7 ,  7 ,  7 ,  6 ,  5  , 3]\n",
    "y=[10  ,25,  17  ,11  ,13,  17,  20  ,13,  9   ,15]\n",
    "xbar=sum(x)/len(x)\n",
    "ybar=sum(y)/len(y)\n",
    "n=0\n",
    "d=0\n",
    "for i in range(len(x)):\n",
    "    n=n+((x[i]-xbar)*(y[i]-ybar))\n",
    "    d=d+((x[i]-xbar)**2)\n",
    "s=n/d \n",
    "#print(\"{:.3f}\".format(s))\n",
    "c=0\n",
    "\n",
    "for  i in range(len(x)):\n",
    "    c=c+y[i]-(x[i]*s)\n",
    "    #print(c)\n",
    "c=c/len(x)\n",
    "\n",
    "print(c+(s*10))"
   ]
  },
  {
   "cell_type": "code",
   "execution_count": 11,
   "metadata": {},
   "outputs": [
    {
     "name": "stdout",
     "output_type": "stream",
     "text": [
      "6.875000000000001\n",
      "29.375\n",
      "44.708333333333336\n",
      "54.04166666666667\n",
      "65.58333333333334\n",
      "81.12500000000001\n",
      "99.66666666666669\n",
      "111.41666666666669\n",
      "119.37500000000001\n",
      "133.75\n"
     ]
    }
   ],
   "source": []
  },
  {
   "cell_type": "code",
   "execution_count": 12,
   "metadata": {},
   "outputs": [
    {
     "data": {
      "text/plain": [
       "13.375"
      ]
     },
     "execution_count": 12,
     "metadata": {},
     "output_type": "execute_result"
    }
   ],
   "source": []
  },
  {
   "cell_type": "code",
   "execution_count": 14,
   "metadata": {},
   "outputs": [
    {
     "name": "stdout",
     "output_type": "stream",
     "text": [
      "15.458333333333332\n"
     ]
    }
   ],
   "source": []
  },
  {
   "cell_type": "code",
   "execution_count": null,
   "metadata": {},
   "outputs": [],
   "source": []
  }
 ],
 "metadata": {
  "kernelspec": {
   "display_name": "Python 3",
   "language": "python",
   "name": "python3"
  },
  "language_info": {
   "codemirror_mode": {
    "name": "ipython",
    "version": 3
   },
   "file_extension": ".py",
   "mimetype": "text/x-python",
   "name": "python",
   "nbconvert_exporter": "python",
   "pygments_lexer": "ipython3",
   "version": "3.5.2"
  }
 },
 "nbformat": 4,
 "nbformat_minor": 2
}
