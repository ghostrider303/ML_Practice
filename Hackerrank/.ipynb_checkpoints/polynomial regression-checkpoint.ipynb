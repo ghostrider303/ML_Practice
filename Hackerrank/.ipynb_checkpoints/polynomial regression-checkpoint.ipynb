{
 "cells": [
  {
   "cell_type": "code",
   "execution_count": 1,
   "metadata": {},
   "outputs": [],
   "source": [
    "y=[511.14, 717.1, 607.91, 270.4, 289.88, 830.85, 1038.09, 455.19, 640.17, 511.06, 177.03, 1242.52, 891.37, 1339.72, 169.88, 276.05, 517.43, 522.25, 932.21, 851.25, 640.11, 308.68, 1046.05, 332.4, 171.85, 109.55, 361.97, 872.21, 303.7, 256.38, 341.2, 1194.63, 408.6, 895.54, 518.25, 638.75, 301.9, 163.38, 240.77, 1449.05, 609.0, 174.59, 593.45, 355.96, 671.46, 1193.7, 278.88, 411.4, 42.08, 166.19, 58.62, 642.45, 368.14, 702.78, 615.74, 143.79, 109.0, 328.28, 205.16, 1360.49, 905.83, 487.33, 202.76, 202.01, 148.87, 745.3, 503.04, 1563.82, 165.21, 438.4, 98.47, 819.63, 174.44, 483.13, 534.24, 572.31, 957.61, 518.29, 1143.49, 1211.31, 784.74, 283.7, 684.38, 719.46, 292.23, 775.68, 130.77, 801.6, 323.55, 726.9, 661.12, 771.11, 1016.14, 237.69, 325.89, 636.22, 272.12, 696.65, 434.53, 593.86]\n",
    "x=[[0.44, 0.68], [0.99, 0.23], [0.84, 0.29], [0.28, 0.45], [0.07, 0.83], [0.66, 0.8], [0.73, 0.92], [0.57, 0.43], [0.43, 0.89], [0.27, 0.95], [0.43, 0.06], [0.87, 0.91], [0.78, 0.69], [0.9, 0.94], [0.41, 0.06], [0.52, 0.17], [0.47, 0.66], [0.65, 0.43], [0.85, 0.64], [0.93, 0.44], [0.41, 0.93], [0.36, 0.43], [0.78, 0.85], [0.69, 0.07], [0.04, 0.52], [0.17, 0.15], [0.68, 0.13], [0.84, 0.6], [0.38, 0.4], [0.12, 0.65], [0.62, 0.17], [0.79, 0.97], [0.82, 0.04], [0.91, 0.53], [0.35, 0.85], [0.57, 0.69], [0.52, 0.22], [0.31, 0.15], [0.6, 0.02], [0.99, 0.91], [0.48, 0.76], [0.3, 0.19], [0.58, 0.62], [0.65, 0.17], [0.6, 0.69], [0.95, 0.76], [0.47, 0.23], [0.15, 0.96], [0.01, 0.03], [0.26, 0.23], [0.01, 0.11], [0.45, 0.87], [0.09, 0.97], [0.96, 0.25], [0.63, 0.58], [0.06, 0.42], [0.1, 0.24], [0.26, 0.62], [0.41, 0.15], [0.91, 0.95], [0.83, 0.64], [0.44, 0.64], [0.2, 0.4], [0.43, 0.12], [0.21, 0.22], [0.88, 0.4], [0.31, 0.87], [0.99, 0.99], [0.23, 0.26], [0.79, 0.12], [0.02, 0.28], [0.89, 0.48], [0.02, 0.56], [0.92, 0.03], [0.72, 0.34], [0.3, 0.99], [0.86, 0.66], [0.47, 0.65], [0.79, 0.94], [0.82, 0.96], [0.9, 0.42], [0.19, 0.62], [0.7, 0.57], [0.7, 0.61], [0.69, 0.0], [0.98, 0.3], [0.3, 0.08], [0.85, 0.49], [0.73, 0.01], [1.0, 0.23], [0.42, 0.94], [0.49, 0.98], [0.89, 0.68], [0.22, 0.46], [0.34, 0.5], [0.99, 0.13], [0.28, 0.46], [0.87, 0.36], [0.23, 0.87], [0.77, 0.36]]"
   ]
  },
  {
   "cell_type": "code",
   "execution_count": 3,
   "metadata": {},
   "outputs": [
    {
     "data": {
      "text/plain": [
       "100"
      ]
     },
     "execution_count": 3,
     "metadata": {},
     "output_type": "execute_result"
    }
   ],
   "source": [
    "len(y)\n"
   ]
  },
  {
   "cell_type": "code",
   "execution_count": 4,
   "metadata": {},
   "outputs": [],
   "source": [
    "test=[[0.05, 0.54], [0.91, 0.91], [0.31, 0.76], [0.51, 0.31]]"
   ]
  },
  {
   "cell_type": "code",
   "execution_count": 5,
   "metadata": {},
   "outputs": [],
   "source": [
    "from sklearn import linear_model\n",
    "import math"
   ]
  },
  {
   "cell_type": "code",
   "execution_count": 6,
   "metadata": {},
   "outputs": [
    {
     "name": "stdout",
     "output_type": "stream",
     "text": [
      "Intercept: \n",
      " -265.1978963161705\n",
      "Coefficients: \n",
      " [873.95027729 674.66146845]\n"
     ]
    }
   ],
   "source": [
    "regr = linear_model.LinearRegression()\n",
    "regr.fit(x,y)\n",
    " \n",
    "print('Intercept: \\n', regr.intercept_)\n",
    "print('Coefficients: \\n', regr.coef_)"
   ]
  },
  {
   "cell_type": "code",
   "execution_count": 14,
   "metadata": {},
   "outputs": [
    {
     "name": "stdout",
     "output_type": "stream",
     "text": [
      "<class 'numpy.float64'>\n"
     ]
    },
    {
     "data": {
      "text/plain": [
       "0.02"
      ]
     },
     "execution_count": 14,
     "metadata": {},
     "output_type": "execute_result"
    }
   ],
   "source": [
    "m1=regr.coef_[0]\n",
    "m2=regr.coef_[1]\n",
    "c=regr.intercept_\n",
    "print(type(m1))\n",
    "x[70][0]"
   ]
  },
  {
   "cell_type": "code",
   "execution_count": 18,
   "metadata": {},
   "outputs": [],
   "source": [
    "l4=[]\n",
    "l5=[]\n",
    "for i in range(len(x)):\n",
    "    p=float(c+(m1*x[i][0])+(m2*x[i][1]))\n",
    "    l4.append(p)\n",
    "    a4=float(regr.predict([[x[i][0],x[i][1]]]))\n",
    "    l5.append(a4)"
   ]
  },
  {
   "cell_type": "code",
   "execution_count": 20,
   "metadata": {},
   "outputs": [
    {
     "name": "stdout",
     "output_type": "stream",
     "text": [
      "578.1100242398093   511.14    578.1100242398093\n",
      "755.1850159465862   717.1    755.1850159465862\n",
      "664.5721624599928   607.91    664.5721624599928\n",
      "283.10584212908645   270.4    283.10584212908645\n",
      "355.9476419097836   289.88    355.94764190978367\n",
      "851.338461458258   830.85    851.338461458258\n",
      "993.4743570829656   1038.09    993.4743570829655\n",
      "523.0581931746032   455.19    523.0581931746032\n",
      "711.0494298419098   640.17    711.0494298419098\n",
      "611.6970735824002   511.06    611.6970735824002\n"
     ]
    }
   ],
   "source": [
    "for i in range(10):\n",
    "    print(l4[i],\" \",y[i],\"  \",l5[i])"
   ]
  },
  {
   "cell_type": "code",
   "execution_count": 21,
   "metadata": {},
   "outputs": [],
   "source": [
    "from sklearn.linear_model import Ridge\n",
    "from sklearn.preprocessing import PolynomialFeatures\n",
    "from sklearn.pipeline import make_pipeline"
   ]
  },
  {
   "cell_type": "code",
   "execution_count": 24,
   "metadata": {},
   "outputs": [
    {
     "data": {
      "text/plain": [
       "Pipeline(memory=None,\n",
       "     steps=[('polynomialfeatures', PolynomialFeatures(degree=4, include_bias=True, interaction_only=False)), ('ridge', Ridge(alpha=1.0, copy_X=True, fit_intercept=True, max_iter=None,\n",
       "   normalize=False, random_state=None, solver='auto', tol=0.001))])"
      ]
     },
     "execution_count": 24,
     "metadata": {},
     "output_type": "execute_result"
    }
   ],
   "source": [
    "model = make_pipeline(PolynomialFeatures(4), Ridge())\n",
    "model.fit(x, y)"
   ]
  },
  {
   "cell_type": "code",
   "execution_count": 45,
   "metadata": {},
   "outputs": [
    {
     "name": "stdout",
     "output_type": "stream",
     "text": [
      "199.56716243\n",
      "1314.72895671\n",
      "438.98876237\n",
      "337.27939814\n"
     ]
    }
   ],
   "source": [
    "for i in range(len(test)):\n",
    "    a=test[i]\n",
    "    predict_ =str( model.predict([a])).split('[')[1].split(']')\n",
    "    print(predict_[0])"
   ]
  },
  {
   "cell_type": "code",
   "execution_count": null,
   "metadata": {},
   "outputs": [],
   "source": []
  }
 ],
 "metadata": {
  "kernelspec": {
   "display_name": "Python 3",
   "language": "python",
   "name": "python3"
  },
  "language_info": {
   "codemirror_mode": {
    "name": "ipython",
    "version": 3
   },
   "file_extension": ".py",
   "mimetype": "text/x-python",
   "name": "python",
   "nbconvert_exporter": "python",
   "pygments_lexer": "ipython3",
   "version": "3.5.2"
  }
 },
 "nbformat": 4,
 "nbformat_minor": 2
}
