{
 "cells": [
  {
   "cell_type": "code",
   "execution_count": 1,
   "metadata": {},
   "outputs": [],
   "source": [
    "import numpy as np"
   ]
  },
  {
   "cell_type": "code",
   "execution_count": 2,
   "metadata": {},
   "outputs": [
    {
     "data": {
      "text/plain": [
       "[0.18,\n",
       " 0.89,\n",
       " 109.85,\n",
       " 1.0,\n",
       " 0.26,\n",
       " 155.72,\n",
       " 0.92,\n",
       " 0.11,\n",
       " 137.66,\n",
       " 0.07,\n",
       " 0.37,\n",
       " 76.17,\n",
       " 0.85,\n",
       " 0.16,\n",
       " 139.75,\n",
       " 0.99,\n",
       " 0.41,\n",
       " 162.6,\n",
       " 0.87,\n",
       " 0.47,\n",
       " 151.77]"
      ]
     },
     "execution_count": 2,
     "metadata": {},
     "output_type": "execute_result"
    }
   ],
   "source": [
    "l=[0.18, 0.89 ,109.85,1.0 ,0.26 ,155.72,0.92 ,0.11 ,137.66,0.07 ,0.37 ,76.17,0.85 ,0.16 ,139.75,0.99 ,0.41 ,162.6,0.87 ,0.47 ,151.77]\n",
    "l"
   ]
  },
  {
   "cell_type": "code",
   "execution_count": 25,
   "metadata": {},
   "outputs": [],
   "source": [
    "l1=[]\n",
    "l2=[]\n",
    "l3=[]\n",
    "for i in range(2,len(l),3):\n",
    "    if ((i+1)%3==0):\n",
    "        l3.append(l[i])\n",
    "        l2.append(l[i-1])\n",
    "        l1.append(l[i-2])\n",
    "    "
   ]
  },
  {
   "cell_type": "code",
   "execution_count": 29,
   "metadata": {},
   "outputs": [
    {
     "data": {
      "text/plain": [
       "[109.85, 155.72, 137.66, 76.17, 139.75, 162.6, 151.77]"
      ]
     },
     "execution_count": 29,
     "metadata": {},
     "output_type": "execute_result"
    }
   ],
   "source": [
    "l3"
   ]
  },
  {
   "cell_type": "code",
   "execution_count": 30,
   "metadata": {},
   "outputs": [],
   "source": [
    "l1=[0.18, 1.0, 0.92, 0.07, 0.85, 0.99, 0.87]\n",
    "l2=[0.89, 0.26, 0.11, 0.37, 0.16, 0.41, 0.47]\n",
    "l3=[109.85, 155.72, 137.66, 76.17, 139.75, 162.6, 151.77]"
   ]
  },
  {
   "cell_type": "code",
   "execution_count": null,
   "metadata": {},
   "outputs": [],
   "source": []
  }
 ],
 "metadata": {
  "kernelspec": {
   "display_name": "Python 3",
   "language": "python",
   "name": "python3"
  },
  "language_info": {
   "codemirror_mode": {
    "name": "ipython",
    "version": 3
   },
   "file_extension": ".py",
   "mimetype": "text/x-python",
   "name": "python",
   "nbconvert_exporter": "python",
   "pygments_lexer": "ipython3",
   "version": "3.5.2"
  }
 },
 "nbformat": 4,
 "nbformat_minor": 2
}
